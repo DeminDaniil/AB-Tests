{
 "cells": [
  {
   "cell_type": "code",
   "execution_count": 1,
   "id": "769b4cb7",
   "metadata": {},
   "outputs": [],
   "source": [
    "import pandas as pd\n",
    "import numpy as np\n",
    "import matplotlib.pyplot as plt\n",
    "import seaborn as sns\n",
    "from scipy.stats import ttest_1samp, shapiro, levene, ttest_ind, \\\n",
    "mannwhitneyu, pearsonr, spearmanr, kendalltau, f_oneway, kruskal\n",
    "#!pip install statsmodels\n",
    "import statsmodels.stats.api as sms\n",
    "from statsmodels.stats.proportion import proportions_ztest"
   ]
  },
  {
   "cell_type": "code",
   "execution_count": 2,
   "id": "9a4fabf5",
   "metadata": {},
   "outputs": [],
   "source": [
    "import warnings\n",
    "warnings.filterwarnings('ignore')"
   ]
  },
  {
   "cell_type": "markdown",
   "id": "fd4cc708",
   "metadata": {},
   "source": [
    "# Реализация A/B Тестирования"
   ]
  },
  {
   "cell_type": "code",
   "execution_count": 3,
   "id": "2d0b570b",
   "metadata": {},
   "outputs": [
    {
     "data": {
      "text/html": [
       "<div>\n",
       "<style scoped>\n",
       "    .dataframe tbody tr th:only-of-type {\n",
       "        vertical-align: middle;\n",
       "    }\n",
       "\n",
       "    .dataframe tbody tr th {\n",
       "        vertical-align: top;\n",
       "    }\n",
       "\n",
       "    .dataframe thead th {\n",
       "        text-align: right;\n",
       "    }\n",
       "</style>\n",
       "<table border=\"1\" class=\"dataframe\">\n",
       "  <thead>\n",
       "    <tr style=\"text-align: right;\">\n",
       "      <th></th>\n",
       "      <th>USER_ID</th>\n",
       "      <th>VARIANT_NAME</th>\n",
       "      <th>REVENUE</th>\n",
       "    </tr>\n",
       "  </thead>\n",
       "  <tbody>\n",
       "    <tr>\n",
       "      <th>0</th>\n",
       "      <td>737</td>\n",
       "      <td>variant</td>\n",
       "      <td>0.0</td>\n",
       "    </tr>\n",
       "    <tr>\n",
       "      <th>1</th>\n",
       "      <td>2423</td>\n",
       "      <td>control</td>\n",
       "      <td>0.0</td>\n",
       "    </tr>\n",
       "    <tr>\n",
       "      <th>2</th>\n",
       "      <td>9411</td>\n",
       "      <td>control</td>\n",
       "      <td>0.0</td>\n",
       "    </tr>\n",
       "    <tr>\n",
       "      <th>3</th>\n",
       "      <td>7311</td>\n",
       "      <td>control</td>\n",
       "      <td>0.0</td>\n",
       "    </tr>\n",
       "    <tr>\n",
       "      <th>4</th>\n",
       "      <td>6174</td>\n",
       "      <td>variant</td>\n",
       "      <td>0.0</td>\n",
       "    </tr>\n",
       "  </tbody>\n",
       "</table>\n",
       "</div>"
      ],
      "text/plain": [
       "   USER_ID VARIANT_NAME  REVENUE\n",
       "0      737      variant      0.0\n",
       "1     2423      control      0.0\n",
       "2     9411      control      0.0\n",
       "3     7311      control      0.0\n",
       "4     6174      variant      0.0"
      ]
     },
     "execution_count": 3,
     "metadata": {},
     "output_type": "execute_result"
    }
   ],
   "source": [
    "df = pd.read_csv('F:/Рабочий стол/AB Test/AB_Test_Results.csv')\n",
    "df.head()"
   ]
  },
  {
   "cell_type": "markdown",
   "id": "ef21d87f",
   "metadata": {},
   "source": [
    "Заметки:\n",
    "\n",
    "- USER_ID: Идентификационный номер\n",
    "- VARIANT_NAME: Група\n",
    "- REVENUE: Доход"
   ]
  },
  {
   "cell_type": "code",
   "execution_count": 4,
   "id": "58a3b265",
   "metadata": {},
   "outputs": [
    {
     "data": {
      "text/html": [
       "<div>\n",
       "<style scoped>\n",
       "    .dataframe tbody tr th:only-of-type {\n",
       "        vertical-align: middle;\n",
       "    }\n",
       "\n",
       "    .dataframe tbody tr th {\n",
       "        vertical-align: top;\n",
       "    }\n",
       "\n",
       "    .dataframe thead th {\n",
       "        text-align: right;\n",
       "    }\n",
       "</style>\n",
       "<table border=\"1\" class=\"dataframe\">\n",
       "  <thead>\n",
       "    <tr style=\"text-align: right;\">\n",
       "      <th></th>\n",
       "      <th>count</th>\n",
       "      <th>mean</th>\n",
       "      <th>std</th>\n",
       "      <th>min</th>\n",
       "      <th>25%</th>\n",
       "      <th>50%</th>\n",
       "      <th>75%</th>\n",
       "      <th>max</th>\n",
       "    </tr>\n",
       "  </thead>\n",
       "  <tbody>\n",
       "    <tr>\n",
       "      <th>USER_ID</th>\n",
       "      <td>10000.0</td>\n",
       "      <td>4981.080200</td>\n",
       "      <td>2890.590115</td>\n",
       "      <td>2.0</td>\n",
       "      <td>2468.75</td>\n",
       "      <td>4962.0</td>\n",
       "      <td>7511.5</td>\n",
       "      <td>10000.00</td>\n",
       "    </tr>\n",
       "    <tr>\n",
       "      <th>REVENUE</th>\n",
       "      <td>10000.0</td>\n",
       "      <td>0.099447</td>\n",
       "      <td>2.318529</td>\n",
       "      <td>0.0</td>\n",
       "      <td>0.00</td>\n",
       "      <td>0.0</td>\n",
       "      <td>0.0</td>\n",
       "      <td>196.01</td>\n",
       "    </tr>\n",
       "  </tbody>\n",
       "</table>\n",
       "</div>"
      ],
      "text/plain": [
       "           count         mean          std  min      25%     50%     75%  \\\n",
       "USER_ID  10000.0  4981.080200  2890.590115  2.0  2468.75  4962.0  7511.5   \n",
       "REVENUE  10000.0     0.099447     2.318529  0.0     0.00     0.0     0.0   \n",
       "\n",
       "              max  \n",
       "USER_ID  10000.00  \n",
       "REVENUE    196.01  "
      ]
     },
     "execution_count": 4,
     "metadata": {},
     "output_type": "execute_result"
    }
   ],
   "source": [
    "df.describe().T"
   ]
  },
  {
   "cell_type": "code",
   "execution_count": 5,
   "id": "3fd1ff41",
   "metadata": {
    "scrolled": false
   },
   "outputs": [
    {
     "data": {
      "text/html": [
       "<div>\n",
       "<style scoped>\n",
       "    .dataframe tbody tr th:only-of-type {\n",
       "        vertical-align: middle;\n",
       "    }\n",
       "\n",
       "    .dataframe tbody tr th {\n",
       "        vertical-align: top;\n",
       "    }\n",
       "\n",
       "    .dataframe thead th {\n",
       "        text-align: right;\n",
       "    }\n",
       "</style>\n",
       "<table border=\"1\" class=\"dataframe\">\n",
       "  <thead>\n",
       "    <tr style=\"text-align: right;\">\n",
       "      <th></th>\n",
       "      <th>USER_ID</th>\n",
       "      <th>VARIANT_NAME</th>\n",
       "      <th>REVENUE</th>\n",
       "    </tr>\n",
       "  </thead>\n",
       "  <tbody>\n",
       "    <tr>\n",
       "      <th>1437</th>\n",
       "      <td>3342</td>\n",
       "      <td>control</td>\n",
       "      <td>196.01</td>\n",
       "    </tr>\n",
       "    <tr>\n",
       "      <th>6447</th>\n",
       "      <td>2881</td>\n",
       "      <td>variant</td>\n",
       "      <td>58.63</td>\n",
       "    </tr>\n",
       "    <tr>\n",
       "      <th>7642</th>\n",
       "      <td>7206</td>\n",
       "      <td>variant</td>\n",
       "      <td>57.46</td>\n",
       "    </tr>\n",
       "    <tr>\n",
       "      <th>9421</th>\n",
       "      <td>6792</td>\n",
       "      <td>control</td>\n",
       "      <td>41.53</td>\n",
       "    </tr>\n",
       "    <tr>\n",
       "      <th>8168</th>\n",
       "      <td>2166</td>\n",
       "      <td>control</td>\n",
       "      <td>29.32</td>\n",
       "    </tr>\n",
       "    <tr>\n",
       "      <th>9125</th>\n",
       "      <td>831</td>\n",
       "      <td>control</td>\n",
       "      <td>25.98</td>\n",
       "    </tr>\n",
       "    <tr>\n",
       "      <th>2482</th>\n",
       "      <td>7356</td>\n",
       "      <td>variant</td>\n",
       "      <td>23.04</td>\n",
       "    </tr>\n",
       "    <tr>\n",
       "      <th>6412</th>\n",
       "      <td>1053</td>\n",
       "      <td>control</td>\n",
       "      <td>20.07</td>\n",
       "    </tr>\n",
       "    <tr>\n",
       "      <th>5217</th>\n",
       "      <td>3684</td>\n",
       "      <td>variant</td>\n",
       "      <td>19.47</td>\n",
       "    </tr>\n",
       "    <tr>\n",
       "      <th>5530</th>\n",
       "      <td>282</td>\n",
       "      <td>control</td>\n",
       "      <td>18.56</td>\n",
       "    </tr>\n",
       "    <tr>\n",
       "      <th>1388</th>\n",
       "      <td>7358</td>\n",
       "      <td>control</td>\n",
       "      <td>17.87</td>\n",
       "    </tr>\n",
       "    <tr>\n",
       "      <th>3218</th>\n",
       "      <td>701</td>\n",
       "      <td>control</td>\n",
       "      <td>17.08</td>\n",
       "    </tr>\n",
       "    <tr>\n",
       "      <th>758</th>\n",
       "      <td>4445</td>\n",
       "      <td>control</td>\n",
       "      <td>17.05</td>\n",
       "    </tr>\n",
       "    <tr>\n",
       "      <th>4031</th>\n",
       "      <td>2059</td>\n",
       "      <td>control</td>\n",
       "      <td>14.24</td>\n",
       "    </tr>\n",
       "    <tr>\n",
       "      <th>9724</th>\n",
       "      <td>5205</td>\n",
       "      <td>control</td>\n",
       "      <td>14.17</td>\n",
       "    </tr>\n",
       "  </tbody>\n",
       "</table>\n",
       "</div>"
      ],
      "text/plain": [
       "      USER_ID VARIANT_NAME  REVENUE\n",
       "1437     3342      control   196.01\n",
       "6447     2881      variant    58.63\n",
       "7642     7206      variant    57.46\n",
       "9421     6792      control    41.53\n",
       "8168     2166      control    29.32\n",
       "9125      831      control    25.98\n",
       "2482     7356      variant    23.04\n",
       "6412     1053      control    20.07\n",
       "5217     3684      variant    19.47\n",
       "5530      282      control    18.56\n",
       "1388     7358      control    17.87\n",
       "3218      701      control    17.08\n",
       "758      4445      control    17.05\n",
       "4031     2059      control    14.24\n",
       "9724     5205      control    14.17"
      ]
     },
     "execution_count": 5,
     "metadata": {},
     "output_type": "execute_result"
    }
   ],
   "source": [
    "df.sort_values(by = 'REVENUE', ascending = False).head(15)"
   ]
  },
  {
   "cell_type": "code",
   "execution_count": 6,
   "id": "3e9a5cbf",
   "metadata": {},
   "outputs": [],
   "source": [
    "df = df[df['USER_ID'] != 3342]"
   ]
  },
  {
   "cell_type": "code",
   "execution_count": 7,
   "id": "dbc5e419",
   "metadata": {},
   "outputs": [],
   "source": [
    "df = df.groupby(by = ['USER_ID', 'VARIANT_NAME']).sum().reset_index()"
   ]
  },
  {
   "cell_type": "code",
   "execution_count": 8,
   "id": "7b584a2e",
   "metadata": {},
   "outputs": [
    {
     "data": {
      "text/plain": [
       "0"
      ]
     },
     "execution_count": 8,
     "metadata": {},
     "output_type": "execute_result"
    }
   ],
   "source": [
    "df.duplicated().sum() # Проверка на дубликаты"
   ]
  },
  {
   "cell_type": "code",
   "execution_count": 9,
   "id": "dc801689",
   "metadata": {},
   "outputs": [],
   "source": [
    "df.drop_duplicates(inplace = True) # Сброс дубликатов"
   ]
  },
  {
   "cell_type": "code",
   "execution_count": 10,
   "id": "d6da89c6",
   "metadata": {
    "scrolled": false
   },
   "outputs": [
    {
     "data": {
      "text/plain": [
       "<Axes: xlabel='REVENUE', ylabel='Density'>"
      ]
     },
     "execution_count": 10,
     "metadata": {},
     "output_type": "execute_result"
    },
    {
     "data": {
      "image/png": "[encoded data removed]",
      "text/plain": [
       "<Figure size 640x480 with 1 Axes>"
      ]
     },
     "metadata": {},
     "output_type": "display_data"
    }
   ],
   "source": [
    "sns.kdeplot(data = df, x = 'REVENUE', hue = 'VARIANT_NAME')\n",
    "# Проверека на нормальность распределения"
   ]
  },
  {
   "cell_type": "code",
   "execution_count": 11,
   "id": "39d9743a",
   "metadata": {},
   "outputs": [],
   "source": [
    "def get_bootstrap_samples(data, n_samples = 1000):\n",
    "    indices = np.random.randint(0, len(data), (n_samples, len(data)))\n",
    "    samples = data[indices]\n",
    "    return samples\n"
   ]
  },
  {
   "cell_type": "code",
   "execution_count": 12,
   "id": "622643f2",
   "metadata": {},
   "outputs": [],
   "source": [
    "control = get_bootstrap_samples(df.loc[df.VARIANT_NAME == 'control', 'REVENUE'].values, 10000)\n",
    "variant = get_bootstrap_samples(df.loc[df.VARIANT_NAME == 'variant', 'REVENUE'].values, 10000)"
   ]
  },
  {
   "cell_type": "code",
   "execution_count": 13,
   "id": "d42c1d47",
   "metadata": {},
   "outputs": [],
   "source": [
    "control_paid = get_bootstrap_samples(df.loc[(df.VARIANT_NAME == 'control') & (df.REVENUE > 0), 'REVENUE'].values, 1000)\n",
    "variant_paid = get_bootstrap_samples(df.loc[(df.VARIANT_NAME == 'variant') & (df.REVENUE > 0), 'REVENUE'].values, 1000)\n"
   ]
  },
  {
   "cell_type": "code",
   "execution_count": 14,
   "id": "72acb03c",
   "metadata": {},
   "outputs": [],
   "source": [
    "control = df[df['VARIANT_NAME'] == 'control']\n",
    "variant = df[df['VARIANT_NAME'] == 'variant']"
   ]
  },
  {
   "cell_type": "code",
   "execution_count": 15,
   "id": "f609960f",
   "metadata": {
    "scrolled": true
   },
   "outputs": [
    {
     "data": {
      "text/html": [
       "<div>\n",
       "<style scoped>\n",
       "    .dataframe tbody tr th:only-of-type {\n",
       "        vertical-align: middle;\n",
       "    }\n",
       "\n",
       "    .dataframe tbody tr th {\n",
       "        vertical-align: top;\n",
       "    }\n",
       "\n",
       "    .dataframe thead th {\n",
       "        text-align: right;\n",
       "    }\n",
       "</style>\n",
       "<table border=\"1\" class=\"dataframe\">\n",
       "  <thead>\n",
       "    <tr style=\"text-align: right;\">\n",
       "      <th></th>\n",
       "      <th>count</th>\n",
       "      <th>mean</th>\n",
       "      <th>std</th>\n",
       "      <th>min</th>\n",
       "      <th>25%</th>\n",
       "      <th>50%</th>\n",
       "      <th>75%</th>\n",
       "      <th>max</th>\n",
       "    </tr>\n",
       "  </thead>\n",
       "  <tbody>\n",
       "    <tr>\n",
       "      <th>USER_ID</th>\n",
       "      <td>3930.0</td>\n",
       "      <td>4994.373791</td>\n",
       "      <td>2894.862727</td>\n",
       "      <td>2.0</td>\n",
       "      <td>2487.5</td>\n",
       "      <td>4974.0</td>\n",
       "      <td>7574.5</td>\n",
       "      <td>10000.00</td>\n",
       "    </tr>\n",
       "    <tr>\n",
       "      <th>REVENUE</th>\n",
       "      <td>3930.0</td>\n",
       "      <td>0.113738</td>\n",
       "      <td>1.304342</td>\n",
       "      <td>0.0</td>\n",
       "      <td>0.0</td>\n",
       "      <td>0.0</td>\n",
       "      <td>0.0</td>\n",
       "      <td>41.53</td>\n",
       "    </tr>\n",
       "  </tbody>\n",
       "</table>\n",
       "</div>"
      ],
      "text/plain": [
       "          count         mean          std  min     25%     50%     75%  \\\n",
       "USER_ID  3930.0  4994.373791  2894.862727  2.0  2487.5  4974.0  7574.5   \n",
       "REVENUE  3930.0     0.113738     1.304342  0.0     0.0     0.0     0.0   \n",
       "\n",
       "              max  \n",
       "USER_ID  10000.00  \n",
       "REVENUE     41.53  "
      ]
     },
     "execution_count": 15,
     "metadata": {},
     "output_type": "execute_result"
    }
   ],
   "source": [
    "control.describe().T"
   ]
  },
  {
   "cell_type": "code",
   "execution_count": 16,
   "id": "25788220",
   "metadata": {},
   "outputs": [
    {
     "data": {
      "text/html": [
       "<div>\n",
       "<style scoped>\n",
       "    .dataframe tbody tr th:only-of-type {\n",
       "        vertical-align: middle;\n",
       "    }\n",
       "\n",
       "    .dataframe tbody tr th {\n",
       "        vertical-align: top;\n",
       "    }\n",
       "\n",
       "    .dataframe thead th {\n",
       "        text-align: right;\n",
       "    }\n",
       "</style>\n",
       "<table border=\"1\" class=\"dataframe\">\n",
       "  <thead>\n",
       "    <tr style=\"text-align: right;\">\n",
       "      <th></th>\n",
       "      <th>count</th>\n",
       "      <th>mean</th>\n",
       "      <th>std</th>\n",
       "      <th>min</th>\n",
       "      <th>25%</th>\n",
       "      <th>50%</th>\n",
       "      <th>75%</th>\n",
       "      <th>max</th>\n",
       "    </tr>\n",
       "  </thead>\n",
       "  <tbody>\n",
       "    <tr>\n",
       "      <th>USER_ID</th>\n",
       "      <td>3934.0</td>\n",
       "      <td>4961.772242</td>\n",
       "      <td>2887.055258</td>\n",
       "      <td>3.0</td>\n",
       "      <td>2439.75</td>\n",
       "      <td>4956.5</td>\n",
       "      <td>7415.75</td>\n",
       "      <td>10000.00</td>\n",
       "    </tr>\n",
       "    <tr>\n",
       "      <th>REVENUE</th>\n",
       "      <td>3934.0</td>\n",
       "      <td>0.089342</td>\n",
       "      <td>1.484566</td>\n",
       "      <td>0.0</td>\n",
       "      <td>0.00</td>\n",
       "      <td>0.0</td>\n",
       "      <td>0.00</td>\n",
       "      <td>58.63</td>\n",
       "    </tr>\n",
       "  </tbody>\n",
       "</table>\n",
       "</div>"
      ],
      "text/plain": [
       "          count         mean          std  min      25%     50%      75%  \\\n",
       "USER_ID  3934.0  4961.772242  2887.055258  3.0  2439.75  4956.5  7415.75   \n",
       "REVENUE  3934.0     0.089342     1.484566  0.0     0.00     0.0     0.00   \n",
       "\n",
       "              max  \n",
       "USER_ID  10000.00  \n",
       "REVENUE     58.63  "
      ]
     },
     "execution_count": 16,
     "metadata": {},
     "output_type": "execute_result"
    }
   ],
   "source": [
    "variant.describe().T"
   ]
  },
  {
   "cell_type": "markdown",
   "id": "33f52895",
   "metadata": {},
   "source": [
    "### Проверка гипотез"
   ]
  },
  {
   "cell_type": "code",
   "execution_count": 17,
   "id": "e4a6a0d9",
   "metadata": {},
   "outputs": [
    {
     "data": {
      "text/plain": [
       "0.1137379134860051"
      ]
     },
     "execution_count": 17,
     "metadata": {},
     "output_type": "execute_result"
    }
   ],
   "source": [
    "control['REVENUE'].mean()"
   ]
  },
  {
   "cell_type": "code",
   "execution_count": 18,
   "id": "5910a977",
   "metadata": {},
   "outputs": [
    {
     "data": {
      "text/plain": [
       "0.08934163701067616"
      ]
     },
     "execution_count": 18,
     "metadata": {},
     "output_type": "execute_result"
    }
   ],
   "source": [
    "variant['REVENUE'].mean()"
   ]
  },
  {
   "cell_type": "markdown",
   "id": "2475e55d",
   "metadata": {},
   "source": [
    "Заметки:\n",
    "Согласно этим цифрам, кажется, что между группами может быть разница в доходах, но эта разница могла возникнуть случайно и должна быть статистически проверена\n",
    "\n",
    "- Формулировка гипотез\n",
    "\n",
    "    - H0: μ1 = μ2 (Статистической разницы в доходах между контрольной и вариантной группами нет)    \n",
    "    - H1: μ1 ≠ μ2 (Существует статистическая разница между контрольной и вариантной группами с точки зрения выручки)\n",
    "\n",
    "- Проверка гипотез\n",
    "\n",
    "    - Предположение о нормальности\n",
    "    - Однородность дисперсии\n",
    "    \n",
    "- Предположение о нормальности:\n",
    "\n",
    "    - H0: Выполнено предположение о нормальном распределении\n",
    "    - H1: Предположение о нормальном распределении не выполнено\n",
    "    \n",
    "- Предложение об однородности:\n",
    "\n",
    "    - H0: Отклонения однородны\n",
    "    - H1: Отклонения не однородны"
   ]
  },
  {
   "cell_type": "markdown",
   "id": "65569bdb",
   "metadata": {},
   "source": [
    "### Нормальность распределения"
   ]
  },
  {
   "cell_type": "code",
   "execution_count": 19,
   "id": "3b025f00",
   "metadata": {},
   "outputs": [
    {
     "name": "stdout",
     "output_type": "stream",
     "text": [
      "Test Stat = 0.0613, p-value = 0.0000\n"
     ]
    }
   ],
   "source": [
    "test_stat, pvalue = shapiro(control['REVENUE'])\n",
    "\n",
    "print('Test Stat = %.4f, p-value = %.4f' % (test_stat, pvalue))"
   ]
  },
  {
   "cell_type": "code",
   "execution_count": 20,
   "id": "6082435b",
   "metadata": {},
   "outputs": [
    {
     "name": "stdout",
     "output_type": "stream",
     "text": [
      "Test Stat = 0.0328, p-value = 0.0000\n"
     ]
    }
   ],
   "source": [
    "test_stat, pvalue = shapiro(variant['REVENUE'])\n",
    "\n",
    "print('Test Stat = %.4f, p-value = %.4f' % (test_stat, pvalue))"
   ]
  },
  {
   "cell_type": "markdown",
   "id": "62a01c0a",
   "metadata": {},
   "source": [
    "Заметки:\n",
    "- Отклоняем H0, распределение не нормально\n",
    "- Следовательно, нет необходимости проверять однородность отклонений. Мы можем перейти непосредственно к непараметрическому статистическому анализу, которым является тест Манна-Уитни.\""
   ]
  },
  {
   "cell_type": "markdown",
   "id": "e3a6aaeb",
   "metadata": {},
   "source": [
    "### Non-parametric Test"
   ]
  },
  {
   "cell_type": "code",
   "execution_count": 21,
   "id": "94170284",
   "metadata": {},
   "outputs": [
    {
     "name": "stdout",
     "output_type": "stream",
     "text": [
      "Test Stat = 7746585.5000, p-value = 0.4950\n"
     ]
    }
   ],
   "source": [
    "test_stat, pvalue = mannwhitneyu(control['REVENUE'], variant['REVENUE'])\n",
    "\n",
    "print('Test Stat = %.4f, p-value = %.4f' % (test_stat, pvalue))"
   ]
  },
  {
   "cell_type": "markdown",
   "id": "f9296fe2",
   "metadata": {},
   "source": [
    "#### Согласно U-тесту Манна-Уитни, H0 не может быть отклонен. Существенной разницы между средними показателями этих двух групп нет."
   ]
  },
  {
   "cell_type": "markdown",
   "id": "91255a33",
   "metadata": {},
   "source": [
    "---\n",
    "# Fast Food Marketing Compaign A/B Testing"
   ]
  },
  {
   "cell_type": "code",
   "execution_count": 22,
   "id": "30505ebd",
   "metadata": {},
   "outputs": [
    {
     "data": {
      "text/html": [
       "<div>\n",
       "<style scoped>\n",
       "    .dataframe tbody tr th:only-of-type {\n",
       "        vertical-align: middle;\n",
       "    }\n",
       "\n",
       "    .dataframe tbody tr th {\n",
       "        vertical-align: top;\n",
       "    }\n",
       "\n",
       "    .dataframe thead th {\n",
       "        text-align: right;\n",
       "    }\n",
       "</style>\n",
       "<table border=\"1\" class=\"dataframe\">\n",
       "  <thead>\n",
       "    <tr style=\"text-align: right;\">\n",
       "      <th></th>\n",
       "      <th>MarketID</th>\n",
       "      <th>MarketSize</th>\n",
       "      <th>LocationID</th>\n",
       "      <th>AgeOfStore</th>\n",
       "      <th>Promotion</th>\n",
       "      <th>week</th>\n",
       "      <th>SalesInThousands</th>\n",
       "    </tr>\n",
       "  </thead>\n",
       "  <tbody>\n",
       "    <tr>\n",
       "      <th>0</th>\n",
       "      <td>1</td>\n",
       "      <td>Medium</td>\n",
       "      <td>1</td>\n",
       "      <td>4</td>\n",
       "      <td>3</td>\n",
       "      <td>1</td>\n",
       "      <td>33.73</td>\n",
       "    </tr>\n",
       "    <tr>\n",
       "      <th>1</th>\n",
       "      <td>1</td>\n",
       "      <td>Medium</td>\n",
       "      <td>1</td>\n",
       "      <td>4</td>\n",
       "      <td>3</td>\n",
       "      <td>2</td>\n",
       "      <td>35.67</td>\n",
       "    </tr>\n",
       "    <tr>\n",
       "      <th>2</th>\n",
       "      <td>1</td>\n",
       "      <td>Medium</td>\n",
       "      <td>1</td>\n",
       "      <td>4</td>\n",
       "      <td>3</td>\n",
       "      <td>3</td>\n",
       "      <td>29.03</td>\n",
       "    </tr>\n",
       "    <tr>\n",
       "      <th>3</th>\n",
       "      <td>1</td>\n",
       "      <td>Medium</td>\n",
       "      <td>1</td>\n",
       "      <td>4</td>\n",
       "      <td>3</td>\n",
       "      <td>4</td>\n",
       "      <td>39.25</td>\n",
       "    </tr>\n",
       "    <tr>\n",
       "      <th>4</th>\n",
       "      <td>1</td>\n",
       "      <td>Medium</td>\n",
       "      <td>2</td>\n",
       "      <td>5</td>\n",
       "      <td>2</td>\n",
       "      <td>1</td>\n",
       "      <td>27.81</td>\n",
       "    </tr>\n",
       "  </tbody>\n",
       "</table>\n",
       "</div>"
      ],
      "text/plain": [
       "   MarketID MarketSize  LocationID  AgeOfStore  Promotion  week  \\\n",
       "0         1     Medium           1           4          3     1   \n",
       "1         1     Medium           1           4          3     2   \n",
       "2         1     Medium           1           4          3     3   \n",
       "3         1     Medium           1           4          3     4   \n",
       "4         1     Medium           2           5          2     1   \n",
       "\n",
       "   SalesInThousands  \n",
       "0             33.73  \n",
       "1             35.67  \n",
       "2             29.03  \n",
       "3             39.25  \n",
       "4             27.81  "
      ]
     },
     "execution_count": 22,
     "metadata": {},
     "output_type": "execute_result"
    }
   ],
   "source": [
    "df2 = pd.read_csv('F:/Рабочий стол/AB Test/WA_Marketing-Campaign.csv')\n",
    "df2.head()"
   ]
  },
  {
   "cell_type": "markdown",
   "id": "09ed1c8b",
   "metadata": {},
   "source": [
    "- MarketID: уникальный идентификатор рынка\n",
    "- MarketSize: размер рыночной площади по продажам\n",
    "- LocationID: уникальный идентификатор местоположения магазина\n",
    "- AgeOfStore: возраст магазина в годах\n",
    "- Promotion: одна из трех протестированных акций\n",
    "- week: одна из четырех недель, когда проводились акции\n",
    "- SalesInThousands: сумма продаж для определенного местоположения, рекламной акции и недели"
   ]
  },
  {
   "cell_type": "code",
   "execution_count": 23,
   "id": "d74cbc46",
   "metadata": {},
   "outputs": [
    {
     "data": {
      "text/plain": [
       "3    188\n",
       "2    188\n",
       "1    172\n",
       "Name: Promotion, dtype: int64"
      ]
     },
     "execution_count": 23,
     "metadata": {},
     "output_type": "execute_result"
    }
   ],
   "source": [
    "df2['Promotion'].value_counts()"
   ]
  },
  {
   "cell_type": "code",
   "execution_count": 24,
   "id": "0641635e",
   "metadata": {},
   "outputs": [],
   "source": [
    "promotion1 = df2[df2['Promotion'] == '1']\n",
    "promotion2 = df2[df2['Promotion'] == '2']\n",
    "promotion3 = df2[df2['Promotion'] == '3']"
   ]
  },
  {
   "cell_type": "markdown",
   "id": "2a4e83ae",
   "metadata": {},
   "source": [
    "### Проверка гипотез"
   ]
  },
  {
   "cell_type": "markdown",
   "id": "2e40fffe",
   "metadata": {},
   "source": [
    "Заметки:\n",
    "Согласно этим цифрам, кажется, что может быть разница в типах рекламных акций, но эта разница могла возникнуть случайно и должна быть проверена статистически.\n",
    "\n",
    "- Формулировка гипотез:\n",
    "    - H0: μ1 = μ2 = μ3 (статистической разницы в типах рекламных акций нет)\n",
    "    - H1: По крайней мере, одна группа отличается от других\n",
    "    \n",
    "- Проверка предположений:\n",
    "    - Нормальность распределения\n",
    "    - Однородность дисперсии\n",
    "    \n",
    "- Предположение о нормальности:\n",
    "    - H0: Выполнено предположение о нормальном распределении\n",
    "    - H1: Предположение о нормальном распределении не выполнено\n",
    "    \n",
    "- Предположение об однородности дисперсии:\n",
    "    - H0: Отклонения однороды\n",
    "    - H1: Отклонения неоднородны"
   ]
  },
  {
   "cell_type": "markdown",
   "id": "a7f528ba",
   "metadata": {},
   "source": [
    "### Нормальность распределения"
   ]
  },
  {
   "cell_type": "code",
   "execution_count": 25,
   "id": "cbde3458",
   "metadata": {},
   "outputs": [
    {
     "name": "stdout",
     "output_type": "stream",
     "text": [
      "3 p-value: 0.0000\n",
      "2 p-value: 0.0000\n",
      "1 p-value: 0.0000\n"
     ]
    }
   ],
   "source": [
    "for group in list(df2['Promotion'].unique()):\n",
    "    \n",
    "    pvalue = shapiro(df2.loc[df2['Promotion'] == group, 'SalesInThousands'])[1]\n",
    "    \n",
    "    print(group, 'p-value: %.4f' % pvalue)"
   ]
  },
  {
   "cell_type": "markdown",
   "id": "51a7eea8",
   "metadata": {},
   "source": [
    "Заметки:\n",
    "\n",
    "- Отклоняем нулевую гипотезу. Распределение ненормально\n",
    "- Следовательно, нет необходимости проверять однородность отклонений. Мы можем перейти непосредственно к непараметрическому статистическому анализу, которым является тест Крускала."
   ]
  },
  {
   "cell_type": "markdown",
   "id": "34cccce9",
   "metadata": {},
   "source": [
    "### Non-parametric Test"
   ]
  },
  {
   "cell_type": "code",
   "execution_count": 26,
   "id": "28822c3d",
   "metadata": {},
   "outputs": [
    {
     "name": "stdout",
     "output_type": "stream",
     "text": [
      "\n",
      "Statistic: 53.295\n",
      "p-Value: 0.000\n",
      "\n"
     ]
    }
   ],
   "source": [
    "s, p = kruskal(df2.loc[df2['Promotion'] == 1, 'SalesInThousands'],\n",
    "              df2.loc[df2['Promotion'] == 2, 'SalesInThousands'],\n",
    "              df2.loc[df2['Promotion'] == 3, 'SalesInThousands'])\n",
    "\n",
    "print(f'\\nStatistic: {s:.3f}\\np-Value: {p:.3f}\\n')"
   ]
  },
  {
   "cell_type": "markdown",
   "id": "2e945661",
   "metadata": {},
   "source": [
    "Значение p для гипотезы о равенстве рекламных акций меньше 0,05; следовательно, мы отвергаем нулевую гипотезу, указывая на то, что гипотеза о равенстве не выполняется"
   ]
  },
  {
   "cell_type": "code",
   "execution_count": 27,
   "id": "3e3440aa",
   "metadata": {},
   "outputs": [
    {
     "name": "stdout",
     "output_type": "stream",
     "text": [
      " Multiple Comparison of Means - Tukey HSD, FWER=0.05 \n",
      "=====================================================\n",
      "group1 group2 meandiff p-adj   lower    upper  reject\n",
      "-----------------------------------------------------\n",
      "     1      2 -10.7696    0.0 -14.7738 -6.7654   True\n",
      "     1      3  -2.7345 0.2444  -6.7388  1.2697  False\n",
      "     2      3   8.0351    0.0   4.1208 11.9493   True\n",
      "-----------------------------------------------------\n"
     ]
    }
   ],
   "source": [
    "from statsmodels.stats.multicomp import MultiComparison\n",
    "\n",
    "comparison = MultiComparison(df2['SalesInThousands'], df2['Promotion'])\n",
    "tukey = comparison.tukeyhsd(0.05)\n",
    "\n",
    "print(tukey.summary())"
   ]
  },
  {
   "cell_type": "markdown",
   "id": "35bae438",
   "metadata": {},
   "source": [
    "Как было замечено, мы не можем отвергнуть сходство между 1 и 3, между 1 и 3 была обнаружена разница"
   ]
  },
  {
   "cell_type": "markdown",
   "id": "351495bb",
   "metadata": {},
   "source": [
    "---\n",
    "# Mobile Games A/B Testing"
   ]
  },
  {
   "cell_type": "code",
   "execution_count": 28,
   "id": "c8f0c560",
   "metadata": {},
   "outputs": [
    {
     "data": {
      "text/html": [
       "<div>\n",
       "<style scoped>\n",
       "    .dataframe tbody tr th:only-of-type {\n",
       "        vertical-align: middle;\n",
       "    }\n",
       "\n",
       "    .dataframe tbody tr th {\n",
       "        vertical-align: top;\n",
       "    }\n",
       "\n",
       "    .dataframe thead th {\n",
       "        text-align: right;\n",
       "    }\n",
       "</style>\n",
       "<table border=\"1\" class=\"dataframe\">\n",
       "  <thead>\n",
       "    <tr style=\"text-align: right;\">\n",
       "      <th></th>\n",
       "      <th>userid</th>\n",
       "      <th>version</th>\n",
       "      <th>sum_gamerounds</th>\n",
       "      <th>retention_1</th>\n",
       "      <th>retention_7</th>\n",
       "    </tr>\n",
       "  </thead>\n",
       "  <tbody>\n",
       "    <tr>\n",
       "      <th>0</th>\n",
       "      <td>116</td>\n",
       "      <td>gate_30</td>\n",
       "      <td>3</td>\n",
       "      <td>False</td>\n",
       "      <td>False</td>\n",
       "    </tr>\n",
       "    <tr>\n",
       "      <th>1</th>\n",
       "      <td>337</td>\n",
       "      <td>gate_30</td>\n",
       "      <td>38</td>\n",
       "      <td>True</td>\n",
       "      <td>False</td>\n",
       "    </tr>\n",
       "    <tr>\n",
       "      <th>2</th>\n",
       "      <td>377</td>\n",
       "      <td>gate_40</td>\n",
       "      <td>165</td>\n",
       "      <td>True</td>\n",
       "      <td>False</td>\n",
       "    </tr>\n",
       "    <tr>\n",
       "      <th>3</th>\n",
       "      <td>483</td>\n",
       "      <td>gate_40</td>\n",
       "      <td>1</td>\n",
       "      <td>False</td>\n",
       "      <td>False</td>\n",
       "    </tr>\n",
       "    <tr>\n",
       "      <th>4</th>\n",
       "      <td>488</td>\n",
       "      <td>gate_40</td>\n",
       "      <td>179</td>\n",
       "      <td>True</td>\n",
       "      <td>True</td>\n",
       "    </tr>\n",
       "  </tbody>\n",
       "</table>\n",
       "</div>"
      ],
      "text/plain": [
       "   userid  version  sum_gamerounds  retention_1  retention_7\n",
       "0     116  gate_30               3        False        False\n",
       "1     337  gate_30              38         True        False\n",
       "2     377  gate_40             165         True        False\n",
       "3     483  gate_40               1        False        False\n",
       "4     488  gate_40             179         True         True"
      ]
     },
     "execution_count": 28,
     "metadata": {},
     "output_type": "execute_result"
    }
   ],
   "source": [
    "df3 = pd.read_csv('F:/Рабочий стол/AB Test/cookie_cats.csv')\n",
    "df3.head()"
   ]
  },
  {
   "cell_type": "markdown",
   "id": "b771f4c7",
   "metadata": {},
   "source": [
    "Заметки:\n",
    "- userid: уникальный идентификатор для каждого пользователя.\n",
    "- version: Версия игры (например, Gate_30 или Gate_40).\n",
    "- sum_gamerounds: Общее количество раундов игры, сыгранных пользователем.\n",
    "- retention_1: Сохранился ли пользователь через 1 день после установки (1 - сохранился, 0 - не сохранился).\n",
    "- retention_7: Сохранился ли пользователь после 7 дней с момента установки (1 - сохранился, 0 - не сохранился)."
   ]
  },
  {
   "cell_type": "code",
   "execution_count": 29,
   "id": "1eae4772",
   "metadata": {},
   "outputs": [
    {
     "data": {
      "text/plain": [
       "(90189, 5)"
      ]
     },
     "execution_count": 29,
     "metadata": {},
     "output_type": "execute_result"
    }
   ],
   "source": [
    "df3.shape"
   ]
  },
  {
   "cell_type": "code",
   "execution_count": 30,
   "id": "63a5ae78",
   "metadata": {},
   "outputs": [
    {
     "data": {
      "text/plain": [
       "0"
      ]
     },
     "execution_count": 30,
     "metadata": {},
     "output_type": "execute_result"
    }
   ],
   "source": [
    "df2.duplicated().sum()"
   ]
  },
  {
   "cell_type": "code",
   "execution_count": 31,
   "id": "6ed5ef84",
   "metadata": {},
   "outputs": [
    {
     "data": {
      "text/plain": [
       "(50.59946671311376, 53.14544674639904)"
      ]
     },
     "execution_count": 31,
     "metadata": {},
     "output_type": "execute_result"
    }
   ],
   "source": [
    "sms.DescrStatsW(df3['sum_gamerounds']).tconfint_mean()\n",
    "# Проверили доверительные интервалы перед отбором проб"
   ]
  },
  {
   "cell_type": "code",
   "execution_count": 32,
   "id": "311d1e31",
   "metadata": {},
   "outputs": [
    {
     "data": {
      "text/plain": [
       "51.9722"
      ]
     },
     "execution_count": 32,
     "metadata": {},
     "output_type": "execute_result"
    }
   ],
   "source": [
    "sample = df3.sample(n = 5000, random_state = 42)\n",
    "sample['sum_gamerounds'].mean()"
   ]
  },
  {
   "cell_type": "markdown",
   "id": "7270fe18",
   "metadata": {},
   "source": [
    "Заметки:\n",
    "- Тест Шапиро-Уилка требует, чтобы размер выборки был меньше 5000. Следовательно, для каждого уникального значения \"версии\" мы отобрали 2500 единиц выборки, присвоив n=5000.\n",
    "- Мы можем использовать выборочное среднее значение, поскольку оно попадает в доверительный интервал всего нашего набора данных."
   ]
  },
  {
   "cell_type": "markdown",
   "id": "d7ccad97",
   "metadata": {},
   "source": [
    "### Проверка гипотез"
   ]
  },
  {
   "cell_type": "code",
   "execution_count": 33,
   "id": "e23c11ec",
   "metadata": {},
   "outputs": [
    {
     "data": {
      "text/html": [
       "<div>\n",
       "<style scoped>\n",
       "    .dataframe tbody tr th:only-of-type {\n",
       "        vertical-align: middle;\n",
       "    }\n",
       "\n",
       "    .dataframe tbody tr th {\n",
       "        vertical-align: top;\n",
       "    }\n",
       "\n",
       "    .dataframe thead tr th {\n",
       "        text-align: left;\n",
       "    }\n",
       "\n",
       "    .dataframe thead tr:last-of-type th {\n",
       "        text-align: right;\n",
       "    }\n",
       "</style>\n",
       "<table border=\"1\" class=\"dataframe\">\n",
       "  <thead>\n",
       "    <tr>\n",
       "      <th></th>\n",
       "      <th colspan=\"2\" halign=\"left\">sum_gamerounds</th>\n",
       "    </tr>\n",
       "    <tr>\n",
       "      <th></th>\n",
       "      <th>count</th>\n",
       "      <th>mean</th>\n",
       "    </tr>\n",
       "    <tr>\n",
       "      <th>version</th>\n",
       "      <th></th>\n",
       "      <th></th>\n",
       "    </tr>\n",
       "  </thead>\n",
       "  <tbody>\n",
       "    <tr>\n",
       "      <th>gate_30</th>\n",
       "      <td>2503</td>\n",
       "      <td>52.296444</td>\n",
       "    </tr>\n",
       "    <tr>\n",
       "      <th>gate_40</th>\n",
       "      <td>2497</td>\n",
       "      <td>51.647177</td>\n",
       "    </tr>\n",
       "  </tbody>\n",
       "</table>\n",
       "</div>"
      ],
      "text/plain": [
       "        sum_gamerounds           \n",
       "                 count       mean\n",
       "version                          \n",
       "gate_30           2503  52.296444\n",
       "gate_40           2497  51.647177"
      ]
     },
     "execution_count": 33,
     "metadata": {},
     "output_type": "execute_result"
    }
   ],
   "source": [
    "sample.groupby('version').agg({'sum_gamerounds': ['count', 'mean']})"
   ]
  },
  {
   "cell_type": "markdown",
   "id": "8073e70d",
   "metadata": {},
   "source": [
    "Заметки:\n",
    "Согласно этим цифрам, кажется, что в игровых раундах может быть разница, но эта разница могла возникнуть случайно и должна быть проверена статистически.\n",
    "\n",
    "- Формулировка гипотез\n",
    "    - H0: μ1 = μ2 (Статистической разницы в количестве сыгранных раундов игры между версиями нет)\n",
    "    - H1: μ1 ≠ μ2 (Существует статистическая разница в количестве сыгранных раундов игры между версиями)\n",
    "    \n",
    "- Проверка предположений:\n",
    "    - Нормальность распределения\n",
    "    - Однородность дисперсии\n",
    "\n",
    "- Проверка на нормальность распределения:\n",
    "    - H0: Предположение о нормальности распределения выполнено\n",
    "    - H1: Предположение о нормальности распределения не выполнено \n",
    "    \n",
    "- Предположение об однородности дисперсии:\n",
    "    - H0: Дисперсии однородны\n",
    "    - H1: Дисперсии не однородны"
   ]
  },
  {
   "cell_type": "markdown",
   "id": "7db3dfd8",
   "metadata": {},
   "source": [
    "### Нормальность распределения"
   ]
  },
  {
   "cell_type": "code",
   "execution_count": 34,
   "id": "c444d13d",
   "metadata": {},
   "outputs": [
    {
     "name": "stdout",
     "output_type": "stream",
     "text": [
      "Version: gate_30 \n",
      "Statistic: 0.468\n",
      "p-Value: 0.000\n",
      "\n",
      "Version: gate_40 \n",
      "Statistic: 0.494\n",
      "p-Value: 0.000\n",
      "\n"
     ]
    }
   ],
   "source": [
    "for gate in sample['version'].unique():\n",
    "    \n",
    "    s,p = shapiro(sample.loc[sample['version'] == gate, 'sum_gamerounds'])\n",
    "    \n",
    "    print(f'Version: {gate} \\nStatistic: {s:.3f}\\np-Value: {p:.3f}\\n')"
   ]
  },
  {
   "cell_type": "markdown",
   "id": "ed939e35",
   "metadata": {},
   "source": [
    "- Отклояняем нулевую гипотезу. Распределение не нормально.\n",
    "- Следовательно, нет необходимости проверять однородность отклонений. Мы можем перейти непосредственно к непараметрическому статистическому анализу, которым является тест Манна-Уитни\""
   ]
  },
  {
   "cell_type": "markdown",
   "id": "2683a432",
   "metadata": {},
   "source": [
    "### Non-parametric Test"
   ]
  },
  {
   "cell_type": "code",
   "execution_count": 35,
   "id": "dde1f7ce",
   "metadata": {},
   "outputs": [
    {
     "name": "stdout",
     "output_type": "stream",
     "text": [
      "\n",
      "Statistic: 3120414.500\n",
      "p-Value: 0.928\n",
      "\n"
     ]
    }
   ],
   "source": [
    "s, p = mannwhitneyu(sample.loc[sample['version'] == 'gate_30', 'sum_gamerounds'],\n",
    "                   sample.loc[sample['version'] == 'gate_40', 'sum_gamerounds'])\n",
    "\n",
    "print(f'\\nStatistic: {s:.3f}\\np-Value: {p:.3f}\\n')"
   ]
  },
  {
   "cell_type": "markdown",
   "id": "76725a35",
   "metadata": {},
   "source": [
    "Согласно U-критерию Манна-Уитни, нулевая гипотеза не может быть отклонена. Существенной разницы между средними показателями этих двух групп нет."
   ]
  }
 ],
 "metadata": {
  "kernelspec": {
   "display_name": "Python 3 (ipykernel)",
   "language": "python",
   "name": "python3"
  },
  "language_info": {
   "codemirror_mode": {
    "name": "ipython",
    "version": 3
   },
   "file_extension": ".py",
   "mimetype": "text/x-python",
   "name": "python",
   "nbconvert_exporter": "python",
   "pygments_lexer": "ipython3",
   "version": "3.10.9"
  }
 },
 "nbformat": 4,
 "nbformat_minor": 5
}
